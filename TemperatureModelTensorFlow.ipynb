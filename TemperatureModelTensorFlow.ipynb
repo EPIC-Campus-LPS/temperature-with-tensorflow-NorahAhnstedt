{
  "cells": [
    {
      "cell_type": "markdown",
      "metadata": {
        "id": "xBm1YJxHbUJU"
      },
      "source": [
        "# Lab 2.3: Temperature Conversion in TensorFlow\n",
        "\n",
        "## Objective\n",
        "- Install and learn the basics of the `tensorflow` library.\n",
        "- Train a neural network model to output temperature in Fahrenheit given a temperature in Celsius. \n",
        "- Compare and contrast the results of training multiple models with differnet parameters. \n",
        "\n",
        "## Rubric\n",
        "- 6 pts - Contains all required components and uses professional language and commenting\n",
        "- 5 pts - Contains all required components, but uses unprofessional language, commenting, etc. \n",
        "- 4 pts - Contains some, but not all, of the required components\n",
        "- 3 pts - Did not submit\n",
        "\n",
        "\n",
        "## What is a Neural Network?\n",
        "\n",
        "A **neural network** is a type of machine learning model that's designed to work a bit like the human brain — it processes information by passing it through layers of simple units called **nodes**, which are connected by **weights**.\n",
        "\n",
        "<img src=\"neuralnet.png\" width=\"300\">\n",
        "\n",
        "We will talk about neural networks that have three layers:\n",
        "- **Input Layer** – Takes in the raw data (like pixels of an image or numbers in a spreadsheet).\n",
        "- **Hidden Layers** – These are intermediate layers where most of the computation happens. Nodes in these layers apply weights, add a bias, and pass the result through an activation function.\n",
        "- **Output Layer** – Gives the final result (e.g., classifying an image as a cat or dog).\n",
        "\n",
        "Each time a data point enters the neural network, each node's weights and biases are updated based on the result. Over time, the weights and biases are trained to produce the correct response. \n",
        "\n",
        "\n",
        "## Creating a Neural Network\n",
        "\n",
        "\n",
        "In this lab, you will create a **neural network** to calculate the temperature in Fahrenheit, given the corresponding Celsius. We know the formula to find Fahrenheit is:\n",
        "$$ °F = 1.8 \\times °C + 32 $$\n",
        "\n",
        "But we will be working a neural network instead. The purpose of the model is to have the computer \"intuit\" the formula by transforming the input and comparing it to the expected output. \n",
        "\n",
        "\n",
        "## Install TensorFlow\n",
        "\n",
        "Using your terminal install `tensorflow` with \n",
        "\n",
        "```\n",
        "pip install tensorflow\n",
        "```\n",
        "or\n",
        "```\n",
        "sudo apt install python3-tensorflow\n",
        "```\n"
      ]
    },
    {
      "cell_type": "markdown",
      "metadata": {
        "id": "zn_kcb3SYCEs"
      },
      "source": [
        "## Import TensorFlow and Pandas\n",
        "\n",
        "The first step in your program is to import the `tensorflow` into Python. Typically, we `import tensorflow as tf` for brevity. Import `pandas` as well."
      ]
    },
    {
      "cell_type": "code",
      "execution_count": 1,
      "metadata": {
        "id": "zGco5QF2L9ZJ"
      },
      "outputs": [
        {
          "name": "stderr",
          "output_type": "stream",
          "text": [
            "2025-05-06 10:47:13.096918: I tensorflow/core/util/port.cc:153] oneDNN custom operations are on. You may see slightly different numerical results due to floating-point round-off errors from different computation orders. To turn them off, set the environment variable `TF_ENABLE_ONEDNN_OPTS=0`.\n",
            "2025-05-06 10:47:13.097586: I external/local_xla/xla/tsl/cuda/cudart_stub.cc:32] Could not find cuda drivers on your machine, GPU will not be used.\n",
            "2025-05-06 10:47:13.102000: I external/local_xla/xla/tsl/cuda/cudart_stub.cc:32] Could not find cuda drivers on your machine, GPU will not be used.\n",
            "2025-05-06 10:47:13.113413: E external/local_xla/xla/stream_executor/cuda/cuda_fft.cc:467] Unable to register cuFFT factory: Attempting to register factory for plugin cuFFT when one has already been registered\n",
            "WARNING: All log messages before absl::InitializeLog() is called are written to STDERR\n",
            "E0000 00:00:1746550033.133057  117394 cuda_dnn.cc:8579] Unable to register cuDNN factory: Attempting to register factory for plugin cuDNN when one has already been registered\n",
            "E0000 00:00:1746550033.138684  117394 cuda_blas.cc:1407] Unable to register cuBLAS factory: Attempting to register factory for plugin cuBLAS when one has already been registered\n",
            "W0000 00:00:1746550033.153598  117394 computation_placer.cc:177] computation placer already registered. Please check linkage and avoid linking the same target more than once.\n",
            "W0000 00:00:1746550033.153618  117394 computation_placer.cc:177] computation placer already registered. Please check linkage and avoid linking the same target more than once.\n",
            "W0000 00:00:1746550033.153620  117394 computation_placer.cc:177] computation placer already registered. Please check linkage and avoid linking the same target more than once.\n",
            "W0000 00:00:1746550033.153621  117394 computation_placer.cc:177] computation placer already registered. Please check linkage and avoid linking the same target more than once.\n",
            "2025-05-06 10:47:13.159226: I tensorflow/core/platform/cpu_feature_guard.cc:210] This TensorFlow binary is optimized to use available CPU instructions in performance-critical operations.\n",
            "To enable the following instructions: AVX2 AVX_VNNI FMA, in other operations, rebuild TensorFlow with the appropriate compiler flags.\n"
          ]
        }
      ],
      "source": [
        "import tensorflow as tf \n",
        "import pandas as pd"
      ]
    },
    {
      "cell_type": "markdown",
      "metadata": {
        "id": "EA-EKz6YMgFo"
      },
      "source": [
        "## Set Up Training Data\n",
        "\n",
        "Next, we need to create two variables for the input and output data to use to train the model.\n",
        "\n",
        "Write a program to convert Celsius temperatures into Fahrenheit. Then create new dataframe with two columns(`celsius` and `fahrenheit`) with 5 data points each.\n",
        "\n",
        "Then, save your `celsius` column in a new Dataframe `X` and your `fahrenheit` as a Series `y`. This should be exactly the same as how you created `X` and `y` in your Automobile Model Lab. "
      ]
    },
    {
      "cell_type": "code",
      "execution_count": 2,
      "metadata": {
        "id": "UTcZHsX5M4QN"
      },
      "outputs": [],
      "source": [
        "#function that is used to convert celcius to fahrenheit\n",
        "def cels_to_fahr(c):\n",
        "    return(c *9/5)+32\n",
        "cels_val = [0, 10, 20, 30, 40]\n",
        "fahr_val = [cels_to_fahr(c) for c in cels_val]\n",
        "\n",
        "#create a data frame with the two columns with c and f  \n",
        "df= pd.DataFrame({'celsius': cels_val, 'fahrenheit':fahr_val})\n",
        "\n",
        "X=df[['celsius']] #split data into x \n",
        "y=df[['fahrenheit']] #split data into y \n",
        "\n"
      ]
    },
    {
      "cell_type": "markdown",
      "metadata": {
        "id": "VflzfXORN7CD"
      },
      "source": [
        "##  Creating the TensorFlow Model\n",
        "\n",
        "The **neural network** we will use is limited to one input (Celsius temperature) and one output (Fahrenheit temperature), but the number of hidden layers and nodes can be altered. The more complex the model is, the more nodes and layers you will want to use. Since we know that the temperature model is very simple and can be modeled with just one node, let's start there.\n",
        "\n",
        "<img src=\"tempnn.jpeg\" width=\"300\">\n",
        "\n",
        "\n",
        "Create a model with a single input and one hidden node with `model = tf.keras.Sequential([tf.keras.layers.Dense(units=1, input_shape=[1])])`\n",
        "- The single input is expressed with the `input_shape=[1]` parameter\n",
        "- The single node is expressed with the `units=1` parameter"
      ]
    },
    {
      "cell_type": "code",
      "execution_count": 3,
      "metadata": {
        "id": "spVQRItgO3Rg"
      },
      "outputs": [
        {
          "name": "stderr",
          "output_type": "stream",
          "text": [
            "/home/norahahnstedt/.local/lib/python3.12/site-packages/keras/src/layers/core/dense.py:87: UserWarning: Do not pass an `input_shape`/`input_dim` argument to a layer. When using Sequential models, prefer using an `Input(shape)` object as the first layer in the model instead.\n",
            "  super().__init__(activity_regularizer=activity_regularizer, **kwargs)\n",
            "2025-05-06 10:47:15.996345: E external/local_xla/xla/stream_executor/cuda/cuda_platform.cc:51] failed call to cuInit: INTERNAL: CUDA error: Failed call to cuInit: UNKNOWN ERROR (303)\n"
          ]
        }
      ],
      "source": [
        "model = tf.keras.Sequential([tf.keras.layers.Dense(units=1, input_shape=[1])])\n"
      ]
    },
    {
      "cell_type": "markdown",
      "metadata": {
        "id": "lxkZlnwzPW7x"
      },
      "source": [
        "## Compiling and Running the Model\n",
        "\n",
        "Next, you can compile and run the model. The compile command set the parameters for the model. \n",
        "\n",
        "`model.compile(loss=\"mean_squared_error\", optimizer=tf.keras.optimizers.Adam(0.1))`\n",
        "\n",
        "Just like all the other models we've built, the model is actually built and fitted to the data with the `model.fit()` command. Notice that the parameters of this command take the input, output, and number of **epochs**, along with the verbose command to specify how much to print to the screen.\n",
        "\n",
        "`history = model.fit(X, y, epochs=150, verbose=False)`\n",
        "\n",
        "- `X` - This is the model input values(in Celsius).\n",
        "- `y` - This is the model output values(in Fahrenheit).\n",
        "- `epochs=150` - The model will run through the data 150 times. After each pass, it will update the weights and bias values to fit the model better. An **epoch** in machine learning (especially in training neural networks) is one full pass through the entire training dataset.\n",
        "- `verbose=False` - This will suppress any output as the model builds. This command is optional, but makes the screen clear.\n",
        "\n",
        "\n",
        "This model output is assigned to the `history` variable. This will allow you to do some analysis on the fit of the model.\n",
        "\n",
        "### Run the code\n",
        "When you run this code, expect it to take a few seconds to execute as it is running through the data 150 times.\n"
      ]
    },
    {
      "cell_type": "code",
      "execution_count": 4,
      "metadata": {
        "id": "d8rR_tFoPh-j"
      },
      "outputs": [],
      "source": [
        "model.compile(loss=\"mean_squared_error\", optimizer=tf.keras.optimizers.Adam(0.1))\n",
        "history = model.fit(X, y, epochs=150, verbose=False)"
      ]
    },
    {
      "cell_type": "markdown",
      "metadata": {
        "id": "V5Zg5U5bQhqR"
      },
      "source": [
        "## Viewing the Results\n",
        "\n",
        "Now that the model has run, you can use it to predict a value. Just like previous models, we can use the `model.predict()` command .\n",
        "\n",
        "Create a new Dataframe with 100 degrees so we can see what our model predicts. It should be close to 212 degrees Fahrenheit but will probably not be exact. Each time you fit the model, you may get different resuts."
      ]
    },
    {
      "cell_type": "code",
      "execution_count": 5,
      "metadata": {
        "id": "EIvICqc-QhSq"
      },
      "outputs": [
        {
          "name": "stdout",
          "output_type": "stream",
          "text": [
            "\u001b[1m1/1\u001b[0m \u001b[32m━━━━━━━━━━━━━━━━━━━━\u001b[0m\u001b[37m\u001b[0m \u001b[1m0s\u001b[0m 67ms/step\n",
            "\u001b[1m1/1\u001b[0m \u001b[32m━━━━━━━━━━━━━━━━━━━━\u001b[0m\u001b[37m\u001b[0m \u001b[1m0s\u001b[0m 49ms/step\n"
          ]
        },
        {
          "data": {
            "text/plain": [
              "array([[212.01712]], dtype=float32)"
            ]
          },
          "execution_count": 5,
          "metadata": {},
          "output_type": "execute_result"
        }
      ],
      "source": [
        "model.predict(X)\n",
        "\n",
        "cels_val1 = [100]\n",
        "fahr_val1 = [cels_to_fahr(c) for c in cels_val1]\n",
        "\n",
        "df1= pd.DataFrame({'celsius': cels_val1, 'fahrenheit':fahr_val1})\n",
        "\n",
        "X1=df1[['celsius']] #split data into x \n",
        "y1=df1[['fahrenheit']] #split data into y \n",
        "\n",
        "history = model.fit(X1, y1, epochs=150, verbose=False)\n",
        "\n",
        "model.predict(X1)\n",
        "\n",
        "\n"
      ]
    },
    {
      "cell_type": "markdown",
      "metadata": {},
      "source": [
        "### View the Weight and Bias\n",
        "\n",
        "Use the following lines to view the model's weight and bias for the hidden node. Compare the weight and bias of your model to that of the real equation.\n",
        "\n",
        "$$  °F = WEIGHT × °C + BIAS $$\n",
        "$$  °F = 1.8 × °C + 32 $$\n",
        "\n",
        "```\n",
        "print (\"Model variables weights: \" + str(model.layers[0].get_weights()[0]))\n",
        "print (\"Model bias: \" + str(model.layers[0].get_weights()[1]))\n",
        "```"
      ]
    },
    {
      "cell_type": "code",
      "execution_count": 6,
      "metadata": {},
      "outputs": [
        {
          "name": "stdout",
          "output_type": "stream",
          "text": [
            "Model variables weights: [[2.0460825]]\n",
            "Model bias: [7.4088693]\n"
          ]
        }
      ],
      "source": [
        "print (\"Model variables weights: \" + str(model.layers[0].get_weights()[0]))\n",
        "print (\"Model bias: \" + str(model.layers[0].get_weights()[1]))"
      ]
    },
    {
      "cell_type": "markdown",
      "metadata": {
        "id": "M-QK8QrySTUM"
      },
      "source": [
        "\n",
        "## Model Metrics\n",
        "Let's look at some more metrics about our model. \n",
        "\n",
        "Each time an epoch runs, it assigns a value for the weight and bias for each node. The model uses these values with the input value (temperature in celsius) to predict an output value (temperature in fahrenheit). The **loss value** is the difference between the predicted output and the actual output.\n",
        "\n",
        "## Import matplotlib and Plot Loss data\n",
        "\n",
        "Run the code below to see a measure of the loss value. Notice how the loss gets smaller over time. This represents the model fitting a little better with each pass.\n",
        "\n",
        "```\n",
        "import matplotlib.pyplot as plt\n",
        "\n",
        "plt.xlabel('Epoch Number')\n",
        "plt.ylabel(\"Loss Magnitude\")\n",
        "plt.ylim(0,2000)\n",
        "plt.grid()\n",
        "plt.plot(history.history['loss'])\n",
        "plt.show()\n",
        "```"
      ]
    },
    {
      "cell_type": "code",
      "execution_count": 7,
      "metadata": {
        "id": "UO_LIFEHSS4p"
      },
      "outputs": [
        {
          "data": {
            "image/png": "[encoded data removed]",
            "text/plain": [
              "<Figure size 640x480 with 1 Axes>"
            ]
          },
          "metadata": {},
          "output_type": "display_data"
        }
      ],
      "source": [
        "import matplotlib.pyplot as plt\n",
        "\n",
        "plt.xlabel('Epoch Number')\n",
        "plt.ylabel(\"Loss Magnitude\")\n",
        "plt.ylim(0,2000)\n",
        "plt.grid()\n",
        "plt.plot(history.history['loss'])\n",
        "plt.show()"
      ]
    },
    {
      "cell_type": "markdown",
      "metadata": {
        "id": "e5D7uk_vXe-b"
      },
      "source": [
        "## Modifying the Model Parameters\n",
        "\n",
        "The two models below contain the same input and output values as above, but you can make some edits to the model parameters to see the impact.\n",
        "\n",
        "Try each of the following and note the results. **Show the prediction for 100 degrees and a loss plot for each one.**\n",
        "\n",
        "1. Change the number of epochs that you run from 150 to 300.\n",
        "2. Keep the epochs at 150. Use your weather data from the Weather Station Lab.\n",
        "\n",
        "For each of these, you will want to compare two things:\n",
        "\n",
        "- **The loss graph:** Does the tail flatten out? What is the estimated loss in the end?\n",
        "\n",
        "Model 1 (150) = The tail flattens out and ends up with an estimated loss of around 0 or approching 0 infinitaly, however it is extremly close. \n",
        "\n",
        "Model 2 (300) = Similarly to model 1 the tail flattens out and ends up with an estimated loss of around 0 or approching 0 infinitaly, however it is extremly close. Although it seems like it has less failed trails they are relativly similar. \n",
        "\n",
        "Model 3 (weather station data): Model 3 quickly flattens out and only needs to be run (epoch) a couple of time before accuratly predicting the same data as the one given in the csv file, however when predicting 100 degree celcius it is extremly inaccurate, this shows that while the model does a great job predicting the training data (very quickly) it will not be able to predict the test data very well, which is a sign of an overfit model (resulting from the weather being so similar throughout the day it was monitered on the file).\n",
        "\n",
        "- **Run time:** Notice the time that it takes to run each. Nearly all of the time is calculating the model, so you can compare this to the original model.fit code above.\n",
        "\n",
        "Model 1 (150) = 8.4 seconds- shortest\n",
        "\n",
        "Model 2 (300) = 15.7 seconds- longest\n",
        "\n",
        "Model 3 (weather station data) =  15.0 \n",
        "\n",
        "1. Change the number of epochs that you run from 150 to 300."
      ]
    },
    {
      "cell_type": "code",
      "execution_count": 8,
      "metadata": {
        "id": "oDesex5QW4Vw"
      },
      "outputs": [
        {
          "name": "stderr",
          "output_type": "stream",
          "text": [
            "/home/norahahnstedt/.local/lib/python3.12/site-packages/keras/src/layers/core/dense.py:87: UserWarning: Do not pass an `input_shape`/`input_dim` argument to a layer. When using Sequential models, prefer using an `Input(shape)` object as the first layer in the model instead.\n",
            "  super().__init__(activity_regularizer=activity_regularizer, **kwargs)\n"
          ]
        },
        {
          "name": "stdout",
          "output_type": "stream",
          "text": [
            "\u001b[1m1/1\u001b[0m \u001b[32m━━━━━━━━━━━━━━━━━━━━\u001b[0m\u001b[37m\u001b[0m \u001b[1m0s\u001b[0m 54ms/step\n"
          ]
        },
        {
          "data": {
            "image/png": "[encoded data removed]",
            "text/plain": [
              "<Figure size 640x480 with 1 Axes>"
            ]
          },
          "metadata": {},
          "output_type": "display_data"
        }
      ],
      "source": [
        "#make new model so that the first one cannot be used as a base for the other one \n",
        "model1 = tf.keras.Sequential([tf.keras.layers.Dense(units=1, input_shape=[1])])\n",
        "model1.compile(loss=\"mean_squared_error\", optimizer=tf.keras.optimizers.Adam(0.1))\n",
        "history1 = model1.fit(X1, y1, epochs=300, verbose=False)\n",
        "\n",
        "model1.predict(X1)\n",
        "\n",
        "plt.xlabel('Epoch Number')\n",
        "plt.ylabel(\"Loss Magnitude\")\n",
        "plt.ylim(0,2000)\n",
        "plt.grid()\n",
        "plt.plot(history1.history['loss'])\n",
        "plt.show()\n",
        "\n"
      ]
    },
    {
      "cell_type": "markdown",
      "metadata": {},
      "source": [
        "2. Keep the epochs at 150. Use your weather data from the Weather Station Lab."
      ]
    },
    {
      "cell_type": "code",
      "execution_count": 9,
      "metadata": {},
      "outputs": [
        {
          "name": "stderr",
          "output_type": "stream",
          "text": [
            "/home/norahahnstedt/.local/lib/python3.12/site-packages/keras/src/layers/core/dense.py:87: UserWarning: Do not pass an `input_shape`/`input_dim` argument to a layer. When using Sequential models, prefer using an `Input(shape)` object as the first layer in the model instead.\n",
            "  super().__init__(activity_regularizer=activity_regularizer, **kwargs)\n"
          ]
        },
        {
          "name": "stdout",
          "output_type": "stream",
          "text": [
            "\u001b[1m1/1\u001b[0m \u001b[32m━━━━━━━━━━━━━━━━━━━━\u001b[0m\u001b[37m\u001b[0m \u001b[1m0s\u001b[0m 52ms/step\n",
            "prediction for 100 degree celcius:299.48846435546875\n"
          ]
        },
        {
          "data": {
            "image/png": "[encoded data removed]",
            "text/plain": [
              "<Figure size 640x480 with 1 Axes>"
            ]
          },
          "metadata": {},
          "output_type": "display_data"
        }
      ],
      "source": [
        "import numpy as np\n",
        "\n",
        "df2=pd.read_csv('weather.csv')\n",
        "X2=df2[['temp_c']] #split data into x \n",
        "y2=df2[['temp_f']] #split data into y \n",
        "\n",
        "\n",
        "#make new model so that the first one cannot be used as a base for the other one \n",
        "model2 = tf.keras.Sequential([tf.keras.layers.Dense(units=1, input_shape=[1])])\n",
        "model2.compile(loss=\"mean_squared_error\", optimizer=tf.keras.optimizers.Adam(0.1))\n",
        "history2 = model2.fit(X2, y2, epochs=150, verbose=False)\n",
        "\n",
        "predict_temp = model2.predict(np.array([[100]]))\n",
        "print(f'prediction for 100 degree celcius:{predict_temp[0][0]}')\n",
        "\n",
        "plt.xlabel('Epoch Number')\n",
        "plt.ylabel(\"Loss Magnitude\")\n",
        "plt.ylim(0,2000)\n",
        "plt.grid()\n",
        "plt.plot(history2.history['loss'])\n",
        "plt.show()"
      ]
    },
    {
      "cell_type": "markdown",
      "metadata": {
        "id": "2I6oc2SF3Gf1"
      },
      "source": [
        "##  Modifying the Model\n",
        "\n",
        "For this problem, we said that the model was pretty simple and one node in one layer was enough to generate good results.\n",
        "\n",
        "What if we modified this to have 2 dense layers, each with 3 nodes?\n",
        "\n",
        "The model layers would be something like this:\n",
        "```\n",
        "tf.keras.layers.Dense(units=3, input_shape=[1]),\n",
        "tf.keras.layers.Dense(units=3),\n",
        "tf.keras.layers.Dense(units=1)\n",
        "```\n",
        "\n",
        "Notice the first and second layers each have `units=3`. This represents the 3 nodes in the dense layers. The last layer still only has `units=1` because the final output needs to come down to one number. You can also see that the input_shape for the first layer is still `[1]` and the input hasn't changed.\n",
        "\n",
        "Go ahead and run this model below."
      ]
    },
    {
      "cell_type": "code",
      "execution_count": 10,
      "metadata": {
        "id": "oojKCe-j4IzC"
      },
      "outputs": [
        {
          "name": "stderr",
          "output_type": "stream",
          "text": [
            "/home/norahahnstedt/.local/lib/python3.12/site-packages/keras/src/layers/core/dense.py:87: UserWarning: Do not pass an `input_shape`/`input_dim` argument to a layer. When using Sequential models, prefer using an `Input(shape)` object as the first layer in the model instead.\n",
            "  super().__init__(activity_regularizer=activity_regularizer, **kwargs)\n"
          ]
        },
        {
          "ename": "AttributeError",
          "evalue": "'tuple' object has no attribute 'compile'",
          "output_type": "error",
          "traceback": [
            "\u001b[0;31m---------------------------------------------------------------------------\u001b[0m",
            "\u001b[0;31mAttributeError\u001b[0m                            Traceback (most recent call last)",
            "Cell \u001b[0;32mIn[10], line 4\u001b[0m\n\u001b[1;32m      2\u001b[0m tf\u001b[38;5;241m.\u001b[39mkeras\u001b[38;5;241m.\u001b[39mlayers\u001b[38;5;241m.\u001b[39mDense(units\u001b[38;5;241m=\u001b[39m\u001b[38;5;241m3\u001b[39m),\n\u001b[1;32m      3\u001b[0m tf\u001b[38;5;241m.\u001b[39mkeras\u001b[38;5;241m.\u001b[39mlayers\u001b[38;5;241m.\u001b[39mDense(units\u001b[38;5;241m=\u001b[39m\u001b[38;5;241m1\u001b[39m)\n\u001b[0;32m----> 4\u001b[0m \u001b[43mmodel3\u001b[49m\u001b[38;5;241;43m.\u001b[39;49m\u001b[43mcompile\u001b[49m(loss\u001b[38;5;241m=\u001b[39m\u001b[38;5;124m\"\u001b[39m\u001b[38;5;124mmean_squared_error\u001b[39m\u001b[38;5;124m\"\u001b[39m, optimizer\u001b[38;5;241m=\u001b[39mtf\u001b[38;5;241m.\u001b[39mkeras\u001b[38;5;241m.\u001b[39moptimizers\u001b[38;5;241m.\u001b[39mAdam(\u001b[38;5;241m0.1\u001b[39m))\n\u001b[1;32m      5\u001b[0m history3 \u001b[38;5;241m=\u001b[39m model3\u001b[38;5;241m.\u001b[39mfit(X1, y1, epochs\u001b[38;5;241m=\u001b[39m\u001b[38;5;241m150\u001b[39m, verbose\u001b[38;5;241m=\u001b[39m\u001b[38;5;28;01mFalse\u001b[39;00m)\n\u001b[1;32m      7\u001b[0m model1\u001b[38;5;241m.\u001b[39mpredict(X1)\n",
            "\u001b[0;31mAttributeError\u001b[0m: 'tuple' object has no attribute 'compile'"
          ]
        }
      ],
      "source": [
        "model3 = tf.keras.layers.Dense(units=3, input_shape=[1]),\n",
        "tf.keras.layers.Dense(units=3),\n",
        "tf.keras.layers.Dense(units=1)\n",
        "model3.compile(loss=\"mean_squared_error\", optimizer=tf.keras.optimizers.Adam(0.1))\n",
        "history3 = model3.fit(X1, y1, epochs=150, verbose=False)\n",
        "\n",
        "model1.predict(X1)\n",
        "\n",
        "plt.xlabel('Epoch Number')\n",
        "plt.ylabel(\"Loss Magnitude\")\n",
        "plt.ylim(0,2000)\n",
        "plt.grid()\n",
        "plt.plot(history3.history['loss'])\n",
        "plt.show()\n",
        "\n",
        "\n"
      ]
    },
    {
      "cell_type": "markdown",
      "metadata": {
        "id": "qIRGFz8m4doD"
      },
      "source": [
        "Notice that the model predicted about the same, but with a lot more complexity. When creating models, you want to keep your model as simple as possible, and that will be determined by your dataset."
      ]
    }
  ],
  "metadata": {
    "colab": {
      "provenance": []
    },
    "kernelspec": {
      "display_name": "Python 3",
      "language": "python",
      "name": "python3"
    },
    "language_info": {
      "codemirror_mode": {
        "name": "ipython",
        "version": 3
      },
      "file_extension": ".py",
      "mimetype": "text/x-python",
      "name": "python",
      "nbconvert_exporter": "python",
      "pygments_lexer": "ipython3",
      "version": "3.12.3"
    }
  },
  "nbformat": 4,
  "nbformat_minor": 0
}
